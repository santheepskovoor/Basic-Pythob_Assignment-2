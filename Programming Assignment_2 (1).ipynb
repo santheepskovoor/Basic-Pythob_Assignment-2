{
 "cells": [
  {
   "cell_type": "markdown",
   "metadata": {
    "id": "08c66ea5"
   },
   "source": [
    "## Programming Assignment_2\n",
    "-------------"
   ]
  },
  {
   "cell_type": "markdown",
   "metadata": {
    "id": "4e50cf42"
   },
   "source": [
    "1. Write a Python program to convert kilometers to miles?\n"
   ]
  },
  {
   "cell_type": "code",
   "execution_count": 3,
   "metadata": {},
   "outputs": [
    {
     "name": "stdout",
     "output_type": "stream",
     "text": [
      "Enter the distance in Kilometers: 4\n",
      "The distance in Miles is: 2.4852\n"
     ]
    }
   ],
   "source": [
    "km=int(input(\"Enter the distance in Kilometers: \"))\n",
    "miles=km*0.6213 # 1 Kilometer is 0.6213 miles\n",
    "print(\"The distance in Miles is:\",miles)"
   ]
  },
  {
   "cell_type": "markdown",
   "metadata": {
    "id": "0df4e6bf"
   },
   "source": [
    "### 2.Write a Python program to convert Celsius to Fahrenheit?"
   ]
  },
  {
   "cell_type": "code",
   "execution_count": 4,
   "metadata": {},
   "outputs": [
    {
     "name": "stdout",
     "output_type": "stream",
     "text": [
      "Enter the Temperture in Celsious23\n",
      "The temperatre in Fahrenheit is : 763.14\n"
     ]
    }
   ],
   "source": [
    "tmp=int(input(\"Enter the Temperture in Celsious\"))\n",
    "fh=tmp*33.18 # 1 Degee Celsious is 33.18 Degree Fahrenheit\n",
    "print(\"The temperatre in Fahrenheit is :\",fh)"
   ]
  },
  {
   "cell_type": "markdown",
   "metadata": {
    "id": "Q-iUx4CQoppc"
   },
   "source": []
  },
  {
   "cell_type": "markdown",
   "metadata": {
    "id": "46129b8e"
   },
   "source": [
    "3. Write a Python program to display calendar?\n"
   ]
  },
  {
   "cell_type": "code",
   "execution_count": 11,
   "metadata": {},
   "outputs": [
    {
     "name": "stdout",
     "output_type": "stream",
     "text": [
      "Enter the Year2020\n",
      "Enter the month9\n",
      "   September 2020\n",
      "Mo Tu We Th Fr Sa Su\n",
      "    1  2  3  4  5  6\n",
      " 7  8  9 10 11 12 13\n",
      "14 15 16 17 18 19 20\n",
      "21 22 23 24 25 26 27\n",
      "28 29 30\n",
      "\n"
     ]
    }
   ],
   "source": [
    "import calendar\n",
    "yy=int(input(\"Enter the Year\"))\n",
    "mm=int(input(\"Enter the month\"))\n",
    "print(calendar.month(yy,mm))"
   ]
  },
  {
   "cell_type": "markdown",
   "metadata": {
    "id": "db2bf0f7"
   },
   "source": [
    "### 4. Write a Python program to solve quadratic equation?"
   ]
  },
  {
   "cell_type": "code",
   "execution_count": 15,
   "metadata": {},
   "outputs": [
    {
     "name": "stdout",
     "output_type": "stream",
     "text": [
      "The solutions are : (-1+0j) and (-0.5+0j)\n"
     ]
    }
   ],
   "source": [
    "#Quadratic equation ax**2 + bx + c = 0\n",
    "\n",
    "\n",
    "import cmath # importingcomplex math module\n",
    "\n",
    "a = 10\n",
    "b = 15\n",
    "c = 5\n",
    "\n",
    "# Find discriminant\n",
    "d = (b**2) - (4*a*c)\n",
    "\n",
    "# find two solutions\n",
    "sol1 = (-b-cmath.sqrt(d))/(2*a)\n",
    "sol2 = (-b+cmath.sqrt(d))/(2*a)\n",
    "print(\"The solutions are :\",sol1,\"and\",sol2)"
   ]
  },
  {
   "cell_type": "markdown",
   "metadata": {
    "id": "f70f74c9"
   },
   "source": [
    "5. Write a Python program to swap two variables without temp variable?"
   ]
  },
  {
   "cell_type": "code",
   "execution_count": 17,
   "metadata": {},
   "outputs": [
    {
     "name": "stdout",
     "output_type": "stream",
     "text": [
      "Enter 1st Number :100\n",
      "Enter 2nd number: 150\n",
      "The number is: 150\n",
      "The number is: 100\n"
     ]
    }
   ],
   "source": [
    "a=int(input(\"Enter 1st Number :\"))\n",
    "b=int(input(\"Enter 2nd number: \"))\n",
    "a,b=b,a\n",
    "print(\"The 1st number is:\",a)\n",
    "print(\"The 2nd number is:\",b)"
   ]
  },
  {
   "cell_type": "markdown",
   "metadata": {},
   "source": []
  }
 ],
 "metadata": {
  "colab": {
   "provenance": []
  },
  "kernelspec": {
   "display_name": "Python 3",
   "language": "python",
   "name": "python3"
  },
  "language_info": {
   "codemirror_mode": {
    "name": "ipython",
    "version": 3
   },
   "file_extension": ".py",
   "mimetype": "text/x-python",
   "name": "python",
   "nbconvert_exporter": "python",
   "pygments_lexer": "ipython3",
   "version": "3.8.5"
  }
 },
 "nbformat": 4,
 "nbformat_minor": 5
}
